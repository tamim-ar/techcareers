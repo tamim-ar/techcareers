{
 "cells": [
  {
   "cell_type": "code",
   "execution_count": null,
   "metadata": {},
   "outputs": [],
   "source": [
    "# Print a message\n",
    "print(\"Hello, World!\")\n",
    "\n",
    "# Basic arithmetic operations\n",
    "a = 10\n",
    "b = 5\n",
    "print(\"Addition:\", a + b)\n",
    "print(\"Subtraction:\", a - b)\n",
    "print(\"Multiplication:\", a * b)\n",
    "print(\"Division:\", a / b)\n",
    "\n",
    "# List operations\n",
    "my_list = [1, 2, 3, 4, 5]\n",
    "print(\"Original list:\", my_list)\n",
    "my_list.append(6)\n",
    "print(\"List after appending 6:\", my_list)\n",
    "my_list.remove(3)\n",
    "print(\"List after removing 3:\", my_list)\n",
    "\n",
    "# Dictionary operations\n",
    "my_dict = {\"name\": \"Alice\", \"age\": 25}\n",
    "print(\"Original dictionary:\", my_dict)\n",
    "my_dict[\"age\"] = 26\n",
    "print(\"Dictionary after updating age:\", my_dict)\n",
    "my_dict[\"city\"] = \"New York\"\n",
    "print(\"Dictionary after adding city:\", my_dict)\n",
    "\n",
    "# Looping through a list\n",
    "for item in my_list:\n",
    "    print(\"List item:\", item)\n",
    "\n",
    "# Function definition\n",
    "def greet(name):\n",
    "    return f\"Hello, {name}!\"\n",
    "\n",
    "print(greet(\"Bob\"))"
   ]
  }
 ],
 "metadata": {
  "language_info": {
   "name": "python"
  }
 },
 "nbformat": 4,
 "nbformat_minor": 2
}
